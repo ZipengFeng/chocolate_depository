{
 "cells": [
  {
   "cell_type": "code",
   "execution_count": 6,
   "metadata": {
    "collapsed": false
   },
   "outputs": [
    {
     "name": "stderr",
     "output_type": "stream",
     "text": [
      "/usr/local/lib/python2.7/dist-packages/sklearn/cross_validation.py:44: DeprecationWarning: This module was deprecated in version 0.18 in favor of the model_selection module into which all the refactored classes and functions are moved. Also note that the interface of the new CV iterators are different from that of this module. This module will be removed in 0.20.\n",
      "  \"This module will be removed in 0.20.\", DeprecationWarning)\n"
     ]
    }
   ],
   "source": [
    "import pandas as pd\n",
    "from pandas import Series,DataFrame\n",
    "import numpy as np\n",
    "import os\n",
    "from sklearn.metrics import mean_squared_error\n",
    "import datetime\n",
    "import tensorflow as tf\n",
    "from tensorflow.contrib import learn\n",
    "from tensorflow.python.ops import rnn, rnn_cell\n",
    "import matplotlib.pyplot as plt\n",
    "import cPickle\n",
    "import gzip\n",
    "import math\n",
    "%matplotlib inline"
   ]
  },
  {
   "cell_type": "code",
   "execution_count": 7,
   "metadata": {
    "collapsed": true
   },
   "outputs": [],
   "source": [
    "# 提取主力合约数据\n",
    "path = '/home/chocolate/LSTM-source/'\n",
    "data = pd.read_csv(path + 'data_added_features.csv')\n",
    "data=data.ix[:,3:]\n",
    "data = data.fillna(0)\n",
    "# data\n",
    "# data['RaiseDown'] = (data['Latestprice'] - data['First.Latestprice'])/data['First.Latestprice']"
   ]
  },
  {
   "cell_type": "code",
   "execution_count": 8,
   "metadata": {
    "collapsed": true
   },
   "outputs": [],
   "source": [
    "# 为主力合约数据添加两个特征：平均价和下一分钟涨跌幅\n",
    "# 其中，平均价为当前分钟的四个价格的平均值\n",
    "# 下一分钟的涨跌幅为（下一分钟平均价 - 当前分钟平均价）/当前分钟平均价\n",
    "data['MeanPrice'] = (data['Latestprice'] + data['First.Latestprice'] +data['MaxPrice']+data['MinPrice'])/4\n",
    "ser_1 = data['MeanPrice'][1:]\n",
    "ser_1.index = range(len(ser_1))\n",
    "ser1 = data['MeanPrice'][:-1]\n",
    "ser1.index = range(len(ser1))\n",
    "data['RaiseDown_1'] = (ser_1 -ser1)/ser1\n",
    "# 同理，计算当前分钟的后2分钟、3分钟、4分钟、5分钟的涨跌幅\n",
    "ser_2 = data['MeanPrice'][2:]\n",
    "ser_2.index = range(len(ser_2))\n",
    "ser2 = data['MeanPrice'][:-2]\n",
    "ser2.index = range(len(ser2))\n",
    "data['RaiseDown_2'] = (ser_2 -ser2)/ser2\n",
    "\n",
    "ser_3 = data['MeanPrice'][3:]\n",
    "ser_3.index = range(len(ser_3))\n",
    "ser3 = data['MeanPrice'][:-3]\n",
    "ser3.index = range(len(ser3))\n",
    "data['RaiseDown_3'] = (ser_3 -ser3)/ser3\n",
    "\n",
    "ser_4 = data['MeanPrice'][4:]\n",
    "ser_4.index = range(len(ser_4))\n",
    "ser4 = data['MeanPrice'][:-4]\n",
    "ser4.index = range(len(ser4))\n",
    "data['RaiseDown_4'] = (ser_4 -ser4)/ser4\n",
    "\n",
    "ser_5 = data['MeanPrice'][5:]\n",
    "ser_5.index = range(len(ser_5))\n",
    "ser5 = data['MeanPrice'][:-5]\n",
    "ser5.index = range(len(ser5))\n",
    "data['RaiseDown_5'] = (ser_5 -ser5)/ser5\n",
    "data = data.fillna(0)"
   ]
  },
  {
   "cell_type": "code",
   "execution_count": 9,
   "metadata": {
    "collapsed": true
   },
   "outputs": [],
   "source": [
    "# 添加下一分钟的MA5、MA12、MA26、上轨线、下轨线指标\n",
    "ser_1 = data['MA_5'][1:]\n",
    "ser_1.index = range(len(ser_1))\n",
    "data['MA_5_PRED'] = ser_1\n",
    "\n",
    "ser_2 = data['MA_12'][1:]\n",
    "ser_2.index = range(len(ser_2))\n",
    "data['MA_12_PRED'] = ser_2\n",
    "\n",
    "ser_3 = data['MA_26'][1:]\n",
    "ser_3.index = range(len(ser_3))\n",
    "data['MA_26_PRED'] = ser_3\n",
    "\n",
    "ser_4 = data['boll_up'][1:]\n",
    "ser_4.index = range(len(ser_4))\n",
    "data['boll_up_PRED'] = ser_4\n",
    "\n",
    "ser_5 = data['boll_down'][1:]\n",
    "ser_5.index = range(len(ser_5))\n",
    "data['boll_down_PRED'] = ser_5\n",
    "data = data.fillna(0)\n",
    "# data"
   ]
  },
  {
   "cell_type": "code",
   "execution_count": 10,
   "metadata": {
    "collapsed": false
   },
   "outputs": [
    {
     "data": {
      "text/plain": [
       "(35753, 5, 36)"
      ]
     },
     "execution_count": 10,
     "metadata": {},
     "output_type": "execute_result"
    }
   ],
   "source": [
    "data_new = data.drop(data.columns[36:],axis = 1)\n",
    "data_new\n",
    "data_new_array = np.array(data_new)\n",
    "data_new_array.shape\n",
    "from sklearn import preprocessing\n",
    "min_max_scaler = preprocessing.MinMaxScaler()\n",
    "data_new_array = min_max_scaler.fit_transform(data_new_array)\n",
    "data_new_array\n",
    "seq_new_5 = []\n",
    "for j in range(len(data_new_array)):\n",
    "    if j+5 < len(data_new_array):\n",
    "        seq_new_5.append(data_new_array[j:j+5])\n",
    "seq_new_5 = np.array(seq_new_5)\n",
    "seq_new_5.shape"
   ]
  },
  {
   "cell_type": "code",
   "execution_count": 11,
   "metadata": {
    "collapsed": false
   },
   "outputs": [
    {
     "name": "stdout",
     "output_type": "stream",
     "text": [
      "大涨： 17\n",
      "小涨： 320\n",
      "平稳： 1304\n",
      "小跌： 349\n",
      "大跌： 10\n"
     ]
    }
   ],
   "source": [
    "test_data = seq_new_5[12000:14000]\n",
    "test_data = np.array(test_data)\n",
    "test_data.shape\n",
    "data2 = data[12000:14000]\n",
    "test_label = []\n",
    "for i in data2['RaiseDown_1']:\n",
    "    if i > 0.002:\n",
    "        test_label.append([1,0,0,0,0])\n",
    "    elif i > 0.0005:\n",
    "        test_label.append([0,1,0,0,0])\n",
    "    elif i> -0.0005:\n",
    "        test_label.append([0,0,1,0,0])\n",
    "    elif i > -0.002:\n",
    "        test_label.append([0,0,0,1,0])\n",
    "    else:\n",
    "        test_label.append([0,0,0,0,1])\n",
    "test_label = np.array(test_label)\n",
    "test_label.shape\n",
    "test_label_list = test_label.tolist()\n",
    "# 测试集五类样本的数量\n",
    "print u'大涨：', test_label_list.count([1,0,0,0,0])\n",
    "print u'小涨：', test_label_list.count([0,1,0,0,0])\n",
    "print u'平稳：', test_label_list.count([0,0,1,0,0])\n",
    "print u'小跌：', test_label_list.count([0,0,0,1,0])\n",
    "print u'大跌：', test_label_list.count([0,0,0,0,1])"
   ]
  },
  {
   "cell_type": "code",
   "execution_count": 183,
   "metadata": {
    "collapsed": false,
    "scrolled": true
   },
   "outputs": [
    {
     "name": "stdout",
     "output_type": "stream",
     "text": [
      "Model restored\n",
      "('Testing Accuracy:', 1.0)\n"
     ]
    },
    {
     "name": "stderr",
     "output_type": "stream",
     "text": [
      "Exception AssertionError: AssertionError() in <bound method InteractiveSession.__del__ of <tensorflow.python.client.session.InteractiveSession object at 0x7faaf02e9f10>> ignored\n"
     ]
    }
   ],
   "source": [
    "n_input = 36 # 特征数量\n",
    "n_steps = 5 # 时间序列长度\n",
    "n_hidden = 500 # 隐藏层神经元个数\n",
    "n_classes = 5 # 分类数量\n",
    "\n",
    "tf.reset_default_graph()  # 重置流图   \n",
    "\n",
    "xtr = tf.placeholder(\"float\", [None, n_steps, n_input])\n",
    "ytr = tf.placeholder(\"float\", [None,n_classes])\n",
    "# xtr1 = tf.placeholder(\"float\", [None, n_input*n_steps])  \n",
    "# xte1 = tf.placeholder(\"float\", [n_input*n_steps])\n",
    "pclass = tf.placeholder(\"float\", None)\n",
    "weights = {\n",
    "    'out': tf.Variable(tf.random_normal([n_hidden, n_classes]))\n",
    "}\n",
    "biases = {\n",
    "    'out': tf.Variable(tf.random_normal([n_classes]))\n",
    "}\n",
    "def RNN(x, weights, biases):\n",
    "\n",
    "    # 更改数据集的格式，使其满足RNN网络的输入需求\n",
    "    # 现在输入格式: (batch_size, n_steps, n_input)\n",
    "    # 需要的格式: 'n_steps' 个tensor，每个的格式为 (batch_size, n_input)\n",
    "\n",
    "    # 变换batch_size 和 n_steps的位置\n",
    "    x = tf.transpose(x, [1, 0, 2])\n",
    "    # 重新调整格式 (n_steps*batch_size, n_input)\n",
    "    x = tf.reshape(x, [-1, n_input])\n",
    "    # 分割成一系列的 'n_steps' 个tensors，每个的格式为 (batch_size, n_input)\n",
    "    x = tf.split(0, n_steps, x)\n",
    "\n",
    "    # 定义LSTM神经网络结构\n",
    "    lstm_cell = rnn_cell.BasicLSTMCell(n_hidden, forget_bias=1.0)\n",
    "    # 获取输出和状态\n",
    "    outputs, states = rnn.rnn(lstm_cell, x, dtype=tf.float32)\n",
    "    # 返回输出\n",
    "    return tf.matmul(outputs[-1], weights['out']) + biases['out']\n",
    "# 获取预测值\n",
    "pred = RNN(xtr, weights, biases)\n",
    "\n",
    "correct_pred = tf.equal(tf.argmax(pred, 1), tf.argmax(ytr, 1))\n",
    "accuracy = tf.reduce_mean(tf.cast(correct_pred, tf.float32))\n",
    "\n",
    "saver = tf.train.Saver()\n",
    "# 创建会话\n",
    "sess = tf.InteractiveSession()\n",
    "saver.restore(sess, \"/home/chocolate/Model_LSTM-Future_20161123/models/model_1min.ckpt\")\n",
    "print \"Model restored\"\n",
    "test_len = 1\n",
    "test_data1 = test_data[:test_len].reshape((-1, n_steps, n_input))\n",
    "test_label1 = test_label[:test_len]\n",
    "print(\"Testing Accuracy:\",\n",
    "        sess.run(accuracy, feed_dict={xtr: test_data1, ytr: test_label1}))\n",
    " \n"
   ]
  },
  {
   "cell_type": "code",
   "execution_count": 186,
   "metadata": {
    "collapsed": false
   },
   "outputs": [
    {
     "data": {
      "text/plain": [
       "(array([0]), array([2]))"
      ]
     },
     "execution_count": 186,
     "metadata": {},
     "output_type": "execute_result"
    }
   ],
   "source": [
    "# pred的每一行都是五维数组，根据最大隶属度关系，它的哪个位置的值最大，预测属于哪一类\n",
    "pred1 = sess.run(pred,feed_dict={xtr: test_data1})\n",
    "re = np.where(pred1 == np.max(pred1))\n",
    "re\n",
    "\n",
    "    \n"
   ]
  },
  {
   "cell_type": "code",
   "execution_count": 76,
   "metadata": {
    "collapsed": false
   },
   "outputs": [
    {
     "name": "stdout",
     "output_type": "stream",
     "text": [
      "30.0\n"
     ]
    }
   ],
   "source": [
    "import tensorflow as tf  \n",
    "a = tf.constant(5.0)  \n",
    "b = tf.constant(6.0)  \n",
    "c = a * b  \n",
    "with tf.Session():  \n",
    "# We can also use 'c.eval()' here.  \n",
    "  print(c.eval()) "
   ]
  },
  {
   "cell_type": "code",
   "execution_count": 110,
   "metadata": {
    "collapsed": false
   },
   "outputs": [
    {
     "name": "stdout",
     "output_type": "stream",
     "text": [
      "Tensor(\"ArgMax_2:0\", shape=(?,), dtype=int64)\n"
     ]
    }
   ],
   "source": [
    "print tf.argmax(pred, 1)"
   ]
  },
  {
   "cell_type": "code",
   "execution_count": 154,
   "metadata": {
    "collapsed": false
   },
   "outputs": [
    {
     "name": "stdout",
     "output_type": "stream",
     "text": [
      "Tensor(\"add:0\", shape=(?, 5), dtype=float32)\n"
     ]
    }
   ],
   "source": [
    "print pred"
   ]
  },
  {
   "cell_type": "code",
   "execution_count": 68,
   "metadata": {
    "collapsed": false
   },
   "outputs": [
    {
     "name": "stderr",
     "output_type": "stream",
     "text": [
      "Exception AssertionError: AssertionError() in <bound method InteractiveSession.__del__ of <tensorflow.python.client.session.InteractiveSession object at 0x7faac666c990>> ignored\n"
     ]
    },
    {
     "name": "stdout",
     "output_type": "stream",
     "text": [
      "('save to path:', '/home/chocolate/save_net.ckpt')\n"
     ]
    }
   ],
   "source": [
    "import tensorflow as tf  \n",
    "import numpy as np  \n",
    "      \n",
    "    # save to file  \n",
    "W = tf.Variable([[1,1,1],[2,2,2]],dtype = tf.float32,name='weight')  \n",
    "b = tf.Variable([[1,2,3]],dtype = tf.float32,name='biases')  \n",
    "      \n",
    "init = tf.initialize_all_variables()  \n",
    "saver = tf.train.Saver()  \n",
    "with tf.Session() as sess:  \n",
    "    sess.run(init)  \n",
    "    save_path = saver.save(sess,\"/home/chocolate/save_net.ckpt\")  \n",
    "    print (\"save to path:\",save_path)  "
   ]
  },
  {
   "cell_type": "code",
   "execution_count": 69,
   "metadata": {
    "collapsed": false
   },
   "outputs": [
    {
     "name": "stdout",
     "output_type": "stream",
     "text": [
      "('weights:', array([[ 1.,  1.,  1.],\n",
      "       [ 2.,  2.,  2.]], dtype=float32))\n",
      "('biases:', array([[ 1.,  2.,  3.]], dtype=float32))\n"
     ]
    }
   ],
   "source": [
    "import tensorflow as tf  \n",
    "import numpy as np  \n",
    "tf.reset_default_graph()  # 重置流图      \n",
    "W = tf.Variable(np.arange(6).reshape((2,3)),dtype = tf.float32,name='weight')  \n",
    "b = tf.Variable(np.arange(3).reshape((1,3)),dtype = tf.float32,name='biases')      \n",
    "saver = tf.train.Saver()  \n",
    "with tf.Session() as sess:  \n",
    "    saver.restore(sess,\"/home/chocolate/save_net.ckpt\")  \n",
    "    print (\"weights:\",sess.run(W))  \n",
    "    print (\"biases:\",sess.run(b))  "
   ]
  },
  {
   "cell_type": "code",
   "execution_count": 40,
   "metadata": {
    "collapsed": false
   },
   "outputs": [
    {
     "name": "stdout",
     "output_type": "stream",
     "text": [
      "Model saved in file:  /home/chocolate/save_net.ckpt\n"
     ]
    }
   ],
   "source": [
    "import tensorflow as tf\n",
    "v1 = tf.Variable(tf.random_normal([1,2]), name=\"v1\")\n",
    "v2 = tf.Variable(tf.random_normal([2,3]), name=\"v2\")\n",
    "init_op = tf.initialize_all_variables()\n",
    "saver = tf.train.Saver()\n",
    "with tf.Session() as sess:\n",
    "    sess.run(init_op)\n",
    "    saver_path = saver.save(sess, \"/home/chocolate/save_net.ckpt\")\n",
    "    print \"Model saved in file: \", saver_path"
   ]
  },
  {
   "cell_type": "code",
   "execution_count": 42,
   "metadata": {
    "collapsed": false
   },
   "outputs": [
    {
     "name": "stdout",
     "output_type": "stream",
     "text": [
      "Model restored\n",
      "('weights:', array([[ 0.66326529,  0.04105425]], dtype=float32))\n",
      "('biases:', array([[ 2.00193977,  1.52981889,  1.01274168],\n",
      "       [-0.43986952, -0.477148  , -1.84927106]], dtype=float32))\n"
     ]
    }
   ],
   "source": [
    "import tensorflow as tf\n",
    "tf.reset_default_graph()  # 重置流图\n",
    "v1 = tf.Variable(tf.random_normal([1,2]), name=\"v1\")\n",
    "v2 = tf.Variable(tf.random_normal([2,3]), name=\"v2\")\n",
    "saver = tf.train.Saver()\n",
    "\n",
    "with tf.Session() as sess:\n",
    "    saver.restore(sess, \"/home/chocolate/save_net.ckpt\")\n",
    "    print \"Model restored\"\n",
    "    print (\"weights:\",sess.run(v1))  \n",
    "    print (\"biases:\",sess.run(v2))  "
   ]
  },
  {
   "cell_type": "code",
   "execution_count": null,
   "metadata": {
    "collapsed": true
   },
   "outputs": [],
   "source": []
  }
 ],
 "metadata": {
  "kernelspec": {
   "display_name": "Python 2",
   "language": "python",
   "name": "python2"
  },
  "language_info": {
   "codemirror_mode": {
    "name": "ipython",
    "version": 2
   },
   "file_extension": ".py",
   "mimetype": "text/x-python",
   "name": "python",
   "nbconvert_exporter": "python",
   "pygments_lexer": "ipython2",
   "version": "2.7.12"
  }
 },
 "nbformat": 4,
 "nbformat_minor": 1
}
