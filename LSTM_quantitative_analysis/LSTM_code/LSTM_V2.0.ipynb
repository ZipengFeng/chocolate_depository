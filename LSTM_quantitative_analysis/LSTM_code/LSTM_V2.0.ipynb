{
 "cells": [
  {
   "cell_type": "code",
   "execution_count": 2,
   "metadata": {
    "collapsed": false
   },
   "outputs": [
    {
     "name": "stderr",
     "output_type": "stream",
     "text": [
      "/usr/local/lib/python2.7/dist-packages/sklearn/cross_validation.py:44: DeprecationWarning: This module was deprecated in version 0.18 in favor of the model_selection module into which all the refactored classes and functions are moved. Also note that the interface of the new CV iterators are different from that of this module. This module will be removed in 0.20.\n",
      "  \"This module will be removed in 0.20.\", DeprecationWarning)\n"
     ]
    }
   ],
   "source": [
    "import pandas as pd\n",
    "from pandas import Series,DataFrame\n",
    "import numpy as np\n",
    "import os\n",
    "from sklearn.metrics import mean_squared_error\n",
    "import datetime\n",
    "import tensorflow as tf\n",
    "from tensorflow.contrib import learn\n",
    "from tensorflow.python.ops import rnn, rnn_cell\n",
    "import matplotlib.pyplot as plt\n",
    "import cPickle\n",
    "import gzip\n",
    "import math\n",
    "%matplotlib inline"
   ]
  },
  {
   "cell_type": "markdown",
   "metadata": {},
   "source": [
    "# 提取主力合约数据，已经加入了MA、EMA、MACD等指标"
   ]
  },
  {
   "cell_type": "code",
   "execution_count": 93,
   "metadata": {
    "collapsed": true
   },
   "outputs": [],
   "source": [
    "# 提取训练数据和测试数据\n",
    "path = '/home/chocolate/LSTM-source/'\n",
    "data = pd.read_csv(path + 'train_data_addMA.csv')\n",
    "data=data.ix[:,2:]\n",
    "data = data.fillna(0)\n",
    "data['RaiseDown'] = (data['Latestprice'] - data['First.Latestprice'])/data['First.Latestprice']"
   ]
  },
  {
   "cell_type": "code",
   "execution_count": 94,
   "metadata": {
    "collapsed": false
   },
   "outputs": [
    {
     "data": {
      "text/plain": [
       "array([[  3.64040000e+03,   3.64600000e+03,   3.64020000e+03, ...,\n",
       "          0.00000000e+00,   0.00000000e+00,  -1.20719930e-03],\n",
       "       [  3.62580000e+03,   3.64140000e+03,   3.62440000e+03, ...,\n",
       "         -1.81980057e-01,  -2.91168091e-01,  -4.01054829e-03],\n",
       "       [  3.61880000e+03,   3.62680000e+03,   3.61260000e+03, ...,\n",
       "         -3.67419077e-01,  -5.34064377e-01,  -1.82048877e-03],\n",
       "       ..., \n",
       "       [  3.30420000e+03,   3.30680000e+03,   3.30420000e+03, ...,\n",
       "          7.50627102e-01,  -6.88750506e-01,  -4.83997822e-04],\n",
       "       [  3.30480000e+03,   3.30540000e+03,   3.30380000e+03, ...,\n",
       "          6.55617336e-01,  -7.60078129e-01,   1.81587071e-04],\n",
       "       [  3.30500000e+03,   3.30620000e+03,   3.30400000e+03, ...,\n",
       "          5.61696391e-01,  -7.51367561e-01,   0.00000000e+00]])"
      ]
     },
     "execution_count": 94,
     "metadata": {},
     "output_type": "execute_result"
    }
   ],
   "source": [
    "data_array = np.array(data)\n",
    "data_array"
   ]
  },
  {
   "cell_type": "markdown",
   "metadata": {},
   "source": [
    "## 对数据进行标准化"
   ]
  },
  {
   "cell_type": "code",
   "execution_count": 95,
   "metadata": {
    "collapsed": false,
    "scrolled": false
   },
   "outputs": [
    {
     "data": {
      "text/plain": [
       "array([[ 1.        ,  1.        ,  1.        , ...,  0.71291684,\n",
       "         0.65315817,  0.66115234],\n",
       "       [ 0.98349537,  0.9947952 ,  0.98259529, ...,  0.71030444,\n",
       "         0.64915289,  0.56535632],\n",
       "       [ 0.97558218,  0.97827563,  0.96959683, ...,  0.70764238,\n",
       "         0.64581164,  0.64019502],\n",
       "       ..., \n",
       "       [ 0.61994122,  0.61620276,  0.62987442, ...,  0.72369243,\n",
       "         0.64368379,  0.68586557],\n",
       "       [ 0.62061949,  0.61461869,  0.6294338 , ...,  0.72232852,\n",
       "         0.64270261,  0.70860993],\n",
       "       [ 0.62084558,  0.61552387,  0.62965411, ...,  0.72098024,\n",
       "         0.64282244,  0.70240474]])"
      ]
     },
     "execution_count": 95,
     "metadata": {},
     "output_type": "execute_result"
    }
   ],
   "source": [
    "from sklearn import preprocessing\n",
    "min_max_scaler = preprocessing.MinMaxScaler()\n",
    "data_array = min_max_scaler.fit_transform(data_array)\n",
    "data_array"
   ]
  },
  {
   "cell_type": "markdown",
   "metadata": {},
   "source": [
    "## 生成5分钟的时间序列，变为3维数组"
   ]
  },
  {
   "cell_type": "code",
   "execution_count": 96,
   "metadata": {
    "collapsed": true
   },
   "outputs": [],
   "source": [
    "\n",
    "seq_5 = []\n",
    "for j in range(len(data_array)):\n",
    "    if j+5 < len(data_array):\n",
    "        seq_5.append(data_array[j:j+5])\n"
   ]
  },
  {
   "cell_type": "code",
   "execution_count": 97,
   "metadata": {
    "collapsed": false
   },
   "outputs": [
    {
     "data": {
      "text/plain": [
       "(35753, 5, 32)"
      ]
     },
     "execution_count": 97,
     "metadata": {},
     "output_type": "execute_result"
    }
   ],
   "source": [
    "seq_5 = np.array(seq_5)\n",
    "seq_5.shape"
   ]
  },
  {
   "cell_type": "markdown",
   "metadata": {},
   "source": [
    "## 提取训练集、测试集。根据当前分钟的涨跌幅分别打标签，分为五类"
   ]
  },
  {
   "cell_type": "code",
   "execution_count": 98,
   "metadata": {
    "collapsed": false
   },
   "outputs": [
    {
     "data": {
      "text/plain": [
       "(20000, 5, 32)"
      ]
     },
     "execution_count": 98,
     "metadata": {},
     "output_type": "execute_result"
    }
   ],
   "source": [
    "train_data = seq_5[1000:21000]\n",
    "train_data.shape"
   ]
  },
  {
   "cell_type": "code",
   "execution_count": 99,
   "metadata": {
    "collapsed": false
   },
   "outputs": [
    {
     "data": {
      "text/plain": [
       "(20000, 5)"
      ]
     },
     "execution_count": 99,
     "metadata": {},
     "output_type": "execute_result"
    }
   ],
   "source": [
    "data1 = data[1000:21000]\n",
    "train_label = []\n",
    "for i in data1['RaiseDown']:\n",
    "    if i > 0.002:\n",
    "        train_label.append([1,0,0,0,0])   #大涨\n",
    "    elif i > 0.0005:\n",
    "        train_label.append([0,1,0,0,0])   #小涨\n",
    "    elif i> -0.0005: \n",
    "        train_label.append([0,0,1,0,0])   #平稳\n",
    "    elif i > -0.002:\n",
    "        train_label.append([0,0,0,1,0])   #小跌\n",
    "    else:\n",
    "        train_label.append([0,0,0,0,1])   #大跌\n",
    "train_label = np.array(train_label)\n",
    "train_label.shape"
   ]
  },
  {
   "cell_type": "code",
   "execution_count": 100,
   "metadata": {
    "collapsed": false
   },
   "outputs": [
    {
     "name": "stdout",
     "output_type": "stream",
     "text": [
      "540\n",
      "4356\n",
      "10067\n",
      "4583\n",
      "454\n"
     ]
    }
   ],
   "source": [
    "train_label_list = train_label.tolist()\n",
    "print train_label_list.count([1,0,0,0,0])\n",
    "print train_label_list.count([0,1,0,0,0])\n",
    "print train_label_list.count([0,0,1,0,0])\n",
    "print train_label_list.count([0,0,0,1,0])\n",
    "print train_label_list.count([0,0,0,0,1])"
   ]
  },
  {
   "cell_type": "code",
   "execution_count": 101,
   "metadata": {
    "collapsed": false
   },
   "outputs": [
    {
     "data": {
      "text/plain": [
       "(2000, 5, 32)"
      ]
     },
     "execution_count": 101,
     "metadata": {},
     "output_type": "execute_result"
    }
   ],
   "source": [
    "test_data = seq_5[21000:23000]\n",
    "test_data = np.array(test_data)\n",
    "test_data.shape"
   ]
  },
  {
   "cell_type": "code",
   "execution_count": 102,
   "metadata": {
    "collapsed": false
   },
   "outputs": [],
   "source": [
    "data2 = data[21000:23000]\n",
    "test_label = []\n",
    "for i in data2['RaiseDown']:\n",
    "    if i > 0.002:\n",
    "        test_label.append([1,0,0,0,0])\n",
    "    elif i > 0.0005:\n",
    "        test_label.append([0,1,0,0,0])\n",
    "    elif i> -0.0005:\n",
    "        test_label.append([0,0,1,0,0])\n",
    "    elif i > -0.002:\n",
    "        test_label.append([0,0,0,1,0])\n",
    "    else:\n",
    "        test_label.append([0,0,0,0,1])\n",
    "test_label = np.array(test_label)"
   ]
  },
  {
   "cell_type": "code",
   "execution_count": 103,
   "metadata": {
    "collapsed": false,
    "scrolled": true
   },
   "outputs": [
    {
     "name": "stdout",
     "output_type": "stream",
     "text": [
      "16\n",
      "240\n",
      "1504\n",
      "236\n",
      "4\n"
     ]
    }
   ],
   "source": [
    "test_label_list = test_label.tolist()\n",
    "# 测试集五类样本的数量\n",
    "print test_label_list.count([1,0,0,0,0])\n",
    "print test_label_list.count([0,1,0,0,0])\n",
    "print test_label_list.count([0,0,1,0,0])\n",
    "print test_label_list.count([0,0,0,1,0])\n",
    "print test_label_list.count([0,0,0,0,1])"
   ]
  },
  {
   "cell_type": "markdown",
   "metadata": {},
   "source": [
    "# 开始构建LSTM网络，进行分类准确率测试"
   ]
  },
  {
   "cell_type": "code",
   "execution_count": 134,
   "metadata": {
    "collapsed": false
   },
   "outputs": [],
   "source": [
    "learning_rate = 0.001 # 学习速率\n",
    "training_iters = 20000  # 训练总步长\n",
    "batch_size = 200  # 每小段步长\n",
    "display_step = 10  # 每隔十小段显示输出\n",
    "\n",
    "# 参数设置\n",
    "n_input = 32 # 特征数量\n",
    "n_steps = 5 # 时间序列长度\n",
    "n_hidden = 500 # 隐藏层神经元个数\n",
    "n_classes = 5 # 分类数量\n",
    "\n",
    "tf.reset_default_graph()  # 重置流图\n",
    "# 设置输入输出格式大小\n",
    "xtr = tf.placeholder(\"float\", [None, n_steps, n_input])\n",
    "ytr = tf.placeholder(\"float\", [None,n_classes])\n",
    "# xte = tf.placeholder(\"float\", [None, n_steps, n_input])\n",
    "# yte = tf.placeholder(\"float\", [None,n_classes])\n",
    "xtr1 = tf.placeholder(\"float\", [None, n_input*n_steps])  \n",
    "xte1 = tf.placeholder(\"float\", [n_input*n_steps])  \n",
    "# 定义权重和偏移量\n",
    "weights = {\n",
    "    'out': tf.Variable(tf.random_normal([n_hidden, n_classes]))\n",
    "}\n",
    "biases = {\n",
    "    'out': tf.Variable(tf.random_normal([n_classes]))\n",
    "}\n",
    "\n",
    "# def pred():\n",
    "    \n",
    "def RNN(x, weights, biases):\n",
    "\n",
    "    # 更改数据集的格式，使其满足RNN网络的输入需求\n",
    "    # 现在输入格式: (batch_size, n_steps, n_input)\n",
    "    # 需要的格式: 'n_steps' 个tensor，每个的格式为 (batch_size, n_input)\n",
    "\n",
    "    # 变换batch_size 和 n_steps的位置\n",
    "    x = tf.transpose(x, [1, 0, 2])\n",
    "    # 重新调整格式 (n_steps*batch_size, n_input)\n",
    "    x = tf.reshape(x, [-1, n_input])\n",
    "    # 分割成一系列的 'n_steps' 个tensors，每个的格式为 (batch_size, n_input)\n",
    "    x = tf.split(0, n_steps, x)\n",
    "\n",
    "    # 定义LSTM神经网络结构\n",
    "    lstm_cell = rnn_cell.BasicLSTMCell(n_hidden, forget_bias=1.0)\n",
    "    # 获取输出和状态\n",
    "    outputs, states = rnn.rnn(lstm_cell, x, dtype=tf.float32)\n",
    "    # 返回输出\n",
    "    return tf.matmul(outputs[-1], weights['out']) + biases['out']\n",
    "# 获取预测值\n",
    "pred = RNN(xtr, weights, biases)\n",
    "# train_label = tf.split(0, batch_size, train_label)\n",
    "# 取下一小段的输入\n",
    "def next_batch_tr(step, batch_size):\n",
    "    return train_data[(step-1)*batch_size:step*batch_size], train_label[(step-1)*batch_size:step*batch_size]\n",
    "def next_batch_te(step, batch_size):\n",
    "    return test_data[(step-1)*batch_size:step*batch_size], test_label[(step-1)*batch_size:step*batch_size]\n",
    "\n",
    "Xtr1 = np.reshape(train_data, newshape=(-1, n_input*n_steps))  \n",
    "Xte1 = np.reshape(test_data, newshape=(-1, n_input*n_steps)) \n",
    "Xtr2 = map(map, [float, float], Xtr1)\n",
    "Xte2 = map(map, [float, float], Xte1)\n",
    "Xtr3 = np.array(Xtr2)\n",
    "Xte3 = np.array(Xte2)\n"
   ]
  },
  {
   "cell_type": "markdown",
   "metadata": {},
   "source": [
    "# 作出预测值和真实标签的对比"
   ]
  },
  {
   "cell_type": "code",
   "execution_count": 160,
   "metadata": {
    "collapsed": false,
    "scrolled": true
   },
   "outputs": [
    {
     "data": {
      "text/plain": [
       "<matplotlib.text.Text at 0x7fa23225f790>"
      ]
     },
     "execution_count": 160,
     "metadata": {},
     "output_type": "execute_result"
    },
    {
     "data": {
      "text/plain": [
       "<matplotlib.figure.Figure at 0x7fa1fd33b350>"
      ]
     },
     "metadata": {},
     "output_type": "display_data"
    },
    {
     "data": {
      "image/png": "[encoded data removed]",
      "text/plain": [
       "<matplotlib.figure.Figure at 0x7fa231cc5350>"
      ]
     },
     "metadata": {},
     "output_type": "display_data"
    }
   ],
   "source": [
    "#!/usr/bin/env python\n",
    "# -*- coding: utf-8 -*-  \n",
    "# 画出对比图，绿色表示实际值，红色表示预测值\n",
    "%matplotlib inline\n",
    "Y1=[]\n",
    "for i in range(60,100):\n",
    "    nn_index = sess.run(pred1, feed_dict={xtr1: Xtr3, xte1: Xte3[i,:]})  \n",
    "    Y1.append(2 - np.argmax(train_label[nn_index]))\n",
    "Y2=[]\n",
    "for i in range(60,100):\n",
    "    Y2.append(2 - np.argmax(test_label[i]))\n",
    "import numpy as np    \n",
    "import matplotlib.mlab as mlab    \n",
    "import matplotlib.pyplot as plt    \n",
    "\n",
    "Y3 = pd.concat([Series(Y1),Series(Y2)],axis=1)\n",
    "Y3.columns = ['Predict','Real']\n",
    "X=range(60,100)  \n",
    "fig = plt.figure()  \n",
    "Y3.plot(color=['red','green'],kind='bar',use_index=False)  \n",
    "#plt.bar(X,Y2,0.4,color=\"red\")  \n",
    "plt.xlabel(\"min\")  \n",
    "plt.ylabel(\"class\")  \n",
    "plt.title(\"contrasts\")  \n"
   ]
  }
 ],
 "metadata": {
  "kernelspec": {
   "display_name": "Python 2",
   "language": "python",
   "name": "python2"
  },
  "language_info": {
   "codemirror_mode": {
    "name": "ipython",
    "version": 2
   },
   "file_extension": ".py",
   "mimetype": "text/x-python",
   "name": "python",
   "nbconvert_exporter": "python",
   "pygments_lexer": "ipython2",
   "version": "2.7.12"
  }
 },
 "nbformat": 4,
 "nbformat_minor": 1
}
